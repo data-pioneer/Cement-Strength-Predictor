{
 "cells": [
  {
   "cell_type": "markdown",
   "metadata": {},
   "source": [
    "\n",
    "#### importing the libraries"
   ]
  },
  {
   "cell_type": "code",
   "execution_count": 41,
   "metadata": {},
   "outputs": [],
   "source": [
    "from sklearn.model_selection import GridSearchCV\n",
    "from sklearn.preprocessing import StandardScaler\n",
    "from sklearn.ensemble import RandomForestRegressor\n",
    "from sklearn.feature_selection import mutual_info_regression\n",
    "from sklearn.model_selection import train_test_split\n",
    "from sklearn.metrics import mean_squared_error, r2_score\n",
    "\n",
    "import pandas as pd \n",
    "import numpy as np \n",
    "import pickle\n",
    "\n"
   ]
  },
  {
   "cell_type": "code",
   "execution_count": 42,
   "metadata": {},
   "outputs": [],
   "source": [
    "MCSEDataFrame = pd.read_csv(\"Material Compressive Strength Experimental Data.csv\")"
   ]
  },
  {
   "cell_type": "code",
   "execution_count": 43,
   "metadata": {},
   "outputs": [
    {
     "data": {
      "text/html": [
       "<div>\n",
       "<style scoped>\n",
       "    .dataframe tbody tr th:only-of-type {\n",
       "        vertical-align: middle;\n",
       "    }\n",
       "\n",
       "    .dataframe tbody tr th {\n",
       "        vertical-align: top;\n",
       "    }\n",
       "\n",
       "    .dataframe thead th {\n",
       "        text-align: right;\n",
       "    }\n",
       "</style>\n",
       "<table border=\"1\" class=\"dataframe\">\n",
       "  <thead>\n",
       "    <tr style=\"text-align: right;\">\n",
       "      <th></th>\n",
       "      <th>Material Quantity (gm)</th>\n",
       "      <th>Additive Catalyst (gm)</th>\n",
       "      <th>Ash Component (gm)</th>\n",
       "      <th>Water Mix (ml)</th>\n",
       "      <th>Plasticizer (gm)</th>\n",
       "      <th>Moderate Aggregator</th>\n",
       "      <th>Refined Aggregator</th>\n",
       "      <th>Formulation Duration (hrs)</th>\n",
       "      <th>Compression Strength MPa</th>\n",
       "    </tr>\n",
       "  </thead>\n",
       "  <tbody>\n",
       "    <tr>\n",
       "      <th>0</th>\n",
       "      <td>486.42</td>\n",
       "      <td>180.60</td>\n",
       "      <td>21.26</td>\n",
       "      <td>201.66</td>\n",
       "      <td>16.11</td>\n",
       "      <td>1151.17</td>\n",
       "      <td>708.50</td>\n",
       "      <td>344.43</td>\n",
       "      <td>79.89</td>\n",
       "    </tr>\n",
       "    <tr>\n",
       "      <th>1</th>\n",
       "      <td>133.32</td>\n",
       "      <td>260.14</td>\n",
       "      <td>185.60</td>\n",
       "      <td>175.99</td>\n",
       "      <td>6.27</td>\n",
       "      <td>1090.57</td>\n",
       "      <td>1010.25</td>\n",
       "      <td>28.86</td>\n",
       "      <td>59.80</td>\n",
       "    </tr>\n",
       "  </tbody>\n",
       "</table>\n",
       "</div>"
      ],
      "text/plain": [
       "   Material Quantity (gm)  Additive Catalyst (gm)  Ash Component (gm)  \\\n",
       "0                  486.42                  180.60               21.26   \n",
       "1                  133.32                  260.14              185.60   \n",
       "\n",
       "   Water Mix (ml)  Plasticizer (gm)  Moderate Aggregator  Refined Aggregator  \\\n",
       "0          201.66             16.11              1151.17              708.50   \n",
       "1          175.99              6.27              1090.57             1010.25   \n",
       "\n",
       "   Formulation Duration (hrs)  Compression Strength MPa  \n",
       "0                      344.43                     79.89  \n",
       "1                       28.86                     59.80  "
      ]
     },
     "execution_count": 43,
     "metadata": {},
     "output_type": "execute_result"
    }
   ],
   "source": [
    "MCSEDataFrame.head(2)"
   ]
  },
  {
   "cell_type": "code",
   "execution_count": 44,
   "metadata": {},
   "outputs": [
    {
     "name": "stdout",
     "output_type": "stream",
     "text": [
      "<class 'pandas.core.frame.DataFrame'>\n",
      "RangeIndex: 6139 entries, 0 to 6138\n",
      "Data columns (total 9 columns):\n",
      " #   Column                      Non-Null Count  Dtype  \n",
      "---  ------                      --------------  -----  \n",
      " 0   Material Quantity (gm)      6030 non-null   float64\n",
      " 1   Additive Catalyst (gm)      6030 non-null   float64\n",
      " 2   Ash Component (gm)          6030 non-null   float64\n",
      " 3   Water Mix (ml)              6030 non-null   float64\n",
      " 4   Plasticizer (gm)            6030 non-null   float64\n",
      " 5   Moderate Aggregator         6030 non-null   float64\n",
      " 6   Refined Aggregator          6030 non-null   float64\n",
      " 7   Formulation Duration (hrs)  6030 non-null   float64\n",
      " 8   Compression Strength MPa    6139 non-null   float64\n",
      "dtypes: float64(9)\n",
      "memory usage: 431.8 KB\n"
     ]
    }
   ],
   "source": [
    "MCSEDataFrame.info() "
   ]
  },
  {
   "cell_type": "markdown",
   "metadata": {},
   "source": [
    "##### Raname column name for more readability "
   ]
  },
  {
   "cell_type": "code",
   "execution_count": 45,
   "metadata": {},
   "outputs": [],
   "source": [
    "# Rename method used to rename columns. We are renaming columns name for more readability purpose.\n",
    "\n",
    "MCSEDataFrame.rename(columns={'Material Quantity (gm)': 'Material_Quality',\n",
    "                              'Additive Catalyst (gm)': 'Additive_catalyst',\n",
    "                     'Ash Component (gm)': \"Ash_Component\",'Water Mix (ml)': 'Water_Mix', \n",
    "                     'Plasticizer (gm)':'Plasticizer',\n",
    "                     'Moderate Aggregator': 'Moderate_Aggregator','Refined Aggregator': 'Refined_Aggregator',\n",
    "                     'Formulation Duration (hrs)': 'Formulation_Duration',\n",
    "                     'Compression Strength MPa': 'Compression_Strength'}, \n",
    "            inplace=True)"
   ]
  },
  {
   "cell_type": "markdown",
   "metadata": {},
   "source": [
    "##### use of applymap function to clean the entire dataset"
   ]
  },
  {
   "cell_type": "code",
   "execution_count": 6,
   "metadata": {},
   "outputs": [],
   "source": [
    "# Convert inconsistent data types to consistent types\n",
    "def convertDataType(x):\n",
    "    try:\n",
    "        if isinstance(x, str) and x.isdigit():\n",
    "            return int(x)  \n",
    "        elif isinstance(x, str):\n",
    "            return x.lower() \n",
    "        else:\n",
    "            return x \n",
    "    except:\n",
    "        return np.NAN \n",
    "\n",
    "MCSEDataFrame = MCSEDataFrame.applymap(convertDataType)"
   ]
  },
  {
   "cell_type": "code",
   "execution_count": 46,
   "metadata": {},
   "outputs": [
    {
     "name": "stdout",
     "output_type": "stream",
     "text": [
      "      Material_Quality  Additive_catalyst  Ash_Component  Water_Mix  \\\n",
      "0               486.42             180.60          21.26     201.66   \n",
      "1               133.32             260.14         185.60     175.99   \n",
      "2               559.97               2.84         111.76     295.23   \n",
      "3               391.43             351.05          76.39     299.14   \n",
      "4               394.78             352.61         194.35     235.54   \n",
      "...                ...                ...            ...        ...   \n",
      "6134            188.78             162.30         142.65     163.66   \n",
      "6135            349.87             291.45          77.82     188.26   \n",
      "6136            358.29              22.70          17.99     208.58   \n",
      "6137            445.25             275.59         178.86     191.77   \n",
      "6138            560.23             266.56         167.14     175.49   \n",
      "\n",
      "      Plasticizer  Moderate_Aggregator  Refined_Aggregator  \\\n",
      "0           16.11              1151.17              708.50   \n",
      "1            6.27              1090.57             1010.25   \n",
      "2           11.95              1024.93              810.69   \n",
      "3           19.00              1134.88              881.34   \n",
      "4           17.02              1098.24              781.01   \n",
      "...           ...                  ...                 ...   \n",
      "6134        15.98              1003.82             1002.47   \n",
      "6135        25.82               925.10             1005.31   \n",
      "6136        34.91              1081.07              792.44   \n",
      "6137        18.07               865.15              833.10   \n",
      "6138        10.63              1165.87              894.53   \n",
      "\n",
      "      Formulation_Duration  Compression_Strength  \n",
      "0                   344.43                 79.89  \n",
      "1                    28.86                 59.80  \n",
      "2                   237.68                 77.86  \n",
      "3                   208.81                 71.74  \n",
      "4                   266.84                 76.07  \n",
      "...                    ...                   ...  \n",
      "6134                357.91                 50.61  \n",
      "6135                104.20                 54.24  \n",
      "6136                302.76                 56.57  \n",
      "6137                374.63                 58.21  \n",
      "6138                360.96                 58.96  \n",
      "\n",
      "[6139 rows x 9 columns]\n"
     ]
    }
   ],
   "source": [
    "# Remove unwanted characters\n",
    "def removeNonAlphacharacters(x):\n",
    "    if isinstance(x, str):\n",
    "        return float(re.sub(r'[^\\w\\s]', '', x))  # Remove non-alphanumeric characters and convert it into float\n",
    "    else:\n",
    "        return x  # Leave other data types unchanged\n",
    "\n",
    "MCSEDataFrame = MCSEDataFrame.applymap(removeNonAlphacharacters)\n",
    "\n",
    "print(MCSEDataFrame)"
   ]
  },
  {
   "cell_type": "markdown",
   "metadata": {},
   "source": []
  },
  {
   "cell_type": "markdown",
   "metadata": {},
   "source": [
    "####  Filling the null values with mean of that specific column."
   ]
  },
  {
   "cell_type": "code",
   "execution_count": 47,
   "metadata": {},
   "outputs": [],
   "source": [
    "# Iterate through each column and replace null values with mean of column\n",
    "i = 0\n",
    "while i < len(MCSEDataFrame.columns):\n",
    "    column = MCSEDataFrame.columns[i]\n",
    "    meanValue = MCSEDataFrame[column].mean()\n",
    "    MCSEDataFrame[column].fillna(meanValue, inplace=True)\n",
    "    i += 1"
   ]
  },
  {
   "cell_type": "code",
   "execution_count": 48,
   "metadata": {},
   "outputs": [
    {
     "data": {
      "text/html": [
       "<div>\n",
       "<style scoped>\n",
       "    .dataframe tbody tr th:only-of-type {\n",
       "        vertical-align: middle;\n",
       "    }\n",
       "\n",
       "    .dataframe tbody tr th {\n",
       "        vertical-align: top;\n",
       "    }\n",
       "\n",
       "    .dataframe thead th {\n",
       "        text-align: right;\n",
       "    }\n",
       "</style>\n",
       "<table border=\"1\" class=\"dataframe\">\n",
       "  <thead>\n",
       "    <tr style=\"text-align: right;\">\n",
       "      <th></th>\n",
       "      <th>Material_Quality</th>\n",
       "      <th>Additive_catalyst</th>\n",
       "      <th>Ash_Component</th>\n",
       "      <th>Water_Mix</th>\n",
       "      <th>Plasticizer</th>\n",
       "      <th>Moderate_Aggregator</th>\n",
       "      <th>Refined_Aggregator</th>\n",
       "      <th>Formulation_Duration</th>\n",
       "      <th>Compression_Strength</th>\n",
       "    </tr>\n",
       "  </thead>\n",
       "  <tbody>\n",
       "    <tr>\n",
       "      <th>0</th>\n",
       "      <td>486.42</td>\n",
       "      <td>180.60</td>\n",
       "      <td>21.26</td>\n",
       "      <td>201.66</td>\n",
       "      <td>16.11</td>\n",
       "      <td>1151.17</td>\n",
       "      <td>708.50</td>\n",
       "      <td>344.43</td>\n",
       "      <td>79.89</td>\n",
       "    </tr>\n",
       "    <tr>\n",
       "      <th>1</th>\n",
       "      <td>133.32</td>\n",
       "      <td>260.14</td>\n",
       "      <td>185.60</td>\n",
       "      <td>175.99</td>\n",
       "      <td>6.27</td>\n",
       "      <td>1090.57</td>\n",
       "      <td>1010.25</td>\n",
       "      <td>28.86</td>\n",
       "      <td>59.80</td>\n",
       "    </tr>\n",
       "  </tbody>\n",
       "</table>\n",
       "</div>"
      ],
      "text/plain": [
       "   Material_Quality  Additive_catalyst  Ash_Component  Water_Mix  Plasticizer  \\\n",
       "0            486.42             180.60          21.26     201.66        16.11   \n",
       "1            133.32             260.14         185.60     175.99         6.27   \n",
       "\n",
       "   Moderate_Aggregator  Refined_Aggregator  Formulation_Duration  \\\n",
       "0              1151.17              708.50                344.43   \n",
       "1              1090.57             1010.25                 28.86   \n",
       "\n",
       "   Compression_Strength  \n",
       "0                 79.89  \n",
       "1                 59.80  "
      ]
     },
     "execution_count": 48,
     "metadata": {},
     "output_type": "execute_result"
    }
   ],
   "source": [
    "MCSEDataFrame.head(2)"
   ]
  },
  {
   "cell_type": "markdown",
   "metadata": {},
   "source": [
    "##  Scaling the Dataset.\n",
    "\n",
    "##### StandardScaler is used to standardize numerical features by removing the mean and scaling to unit variance."
   ]
  },
  {
   "cell_type": "code",
   "execution_count": 49,
   "metadata": {},
   "outputs": [],
   "source": [
    "# Creating StandardScaler object\n",
    "StdObject = StandardScaler()\n",
    "\n",
    "# Scaling all features\n",
    "#MCSEDataFrame[MCSEDataFrame.columns] = StdObject.fit_transform(MCSEDataFrame[MCSEDataFrame.columns])\n",
    "\n",
    "features_to_scale = MCSEDataFrame.columns[:-1]\n",
    "# Fit and transform the scaler on the selected features\n",
    "MCSEDataFrame[features_to_scale] = StdObject.fit_transform(MCSEDataFrame[features_to_scale])\n",
    "\n"
   ]
  },
  {
   "cell_type": "code",
   "execution_count": 50,
   "metadata": {},
   "outputs": [
    {
     "data": {
      "text/html": [
       "<div>\n",
       "<style scoped>\n",
       "    .dataframe tbody tr th:only-of-type {\n",
       "        vertical-align: middle;\n",
       "    }\n",
       "\n",
       "    .dataframe tbody tr th {\n",
       "        vertical-align: top;\n",
       "    }\n",
       "\n",
       "    .dataframe thead th {\n",
       "        text-align: right;\n",
       "    }\n",
       "</style>\n",
       "<table border=\"1\" class=\"dataframe\">\n",
       "  <thead>\n",
       "    <tr style=\"text-align: right;\">\n",
       "      <th></th>\n",
       "      <th>Material_Quality</th>\n",
       "      <th>Additive_catalyst</th>\n",
       "      <th>Ash_Component</th>\n",
       "      <th>Water_Mix</th>\n",
       "      <th>Plasticizer</th>\n",
       "      <th>Moderate_Aggregator</th>\n",
       "      <th>Refined_Aggregator</th>\n",
       "      <th>Formulation_Duration</th>\n",
       "      <th>Compression_Strength</th>\n",
       "    </tr>\n",
       "  </thead>\n",
       "  <tbody>\n",
       "    <tr>\n",
       "      <th>0</th>\n",
       "      <td>0.691433</td>\n",
       "      <td>-0.121849</td>\n",
       "      <td>-1.231379</td>\n",
       "      <td>-0.549816</td>\n",
       "      <td>-0.133050</td>\n",
       "      <td>1.574556</td>\n",
       "      <td>-0.924276</td>\n",
       "      <td>1.526178</td>\n",
       "      <td>79.89</td>\n",
       "    </tr>\n",
       "    <tr>\n",
       "      <th>1</th>\n",
       "      <td>-1.684034</td>\n",
       "      <td>0.480137</td>\n",
       "      <td>1.002321</td>\n",
       "      <td>-1.173300</td>\n",
       "      <td>-0.982587</td>\n",
       "      <td>0.948866</td>\n",
       "      <td>1.774783</td>\n",
       "      <td>-1.306499</td>\n",
       "      <td>59.80</td>\n",
       "    </tr>\n",
       "  </tbody>\n",
       "</table>\n",
       "</div>"
      ],
      "text/plain": [
       "   Material_Quality  Additive_catalyst  Ash_Component  Water_Mix  Plasticizer  \\\n",
       "0          0.691433          -0.121849      -1.231379  -0.549816    -0.133050   \n",
       "1         -1.684034           0.480137       1.002321  -1.173300    -0.982587   \n",
       "\n",
       "   Moderate_Aggregator  Refined_Aggregator  Formulation_Duration  \\\n",
       "0             1.574556           -0.924276              1.526178   \n",
       "1             0.948866            1.774783             -1.306499   \n",
       "\n",
       "   Compression_Strength  \n",
       "0                 79.89  \n",
       "1                 59.80  "
      ]
     },
     "execution_count": 50,
     "metadata": {},
     "output_type": "execute_result"
    }
   ],
   "source": [
    "MCSEDataFrame.head(2)"
   ]
  },
  {
   "cell_type": "markdown",
   "metadata": {},
   "source": [
    "### Select the important feature for modelling to improve model performance"
   ]
  },
  {
   "cell_type": "code",
   "execution_count": 51,
   "metadata": {},
   "outputs": [],
   "source": [
    "\n",
    "X = MCSEDataFrame.drop('Compression_Strength', axis=1)  # Exclude the target variable\n",
    "y = MCSEDataFrame['Compression_Strength']  # Target variable\n"
   ]
  },
  {
   "cell_type": "markdown",
   "metadata": {},
   "source": [
    "### MIR (Mutual Information Regression) \n",
    "It Rank the Independent features based on their mutual information with the target variable. Features with higher mutual information are considered more informative."
   ]
  },
  {
   "cell_type": "code",
   "execution_count": 52,
   "metadata": {},
   "outputs": [
    {
     "data": {
      "text/plain": [
       "['Material_Quality',\n",
       " 'Additive_catalyst',\n",
       " 'Ash_Component',\n",
       " 'Water_Mix',\n",
       " 'Plasticizer',\n",
       " 'Moderate_Aggregator',\n",
       " 'Refined_Aggregator',\n",
       " 'Formulation_Duration']"
      ]
     },
     "execution_count": 52,
     "metadata": {},
     "output_type": "execute_result"
    }
   ],
   "source": [
    "# Compute mutual information between independent variable and the target variable\n",
    "miScoresValue = mutual_info_regression(X, y)\n",
    "\n",
    "MICDataFrame = pd.DataFrame({'Feature': X.columns, 'MI_Score': miScoresValue})\n",
    "\n",
    "selColsMIC = MICDataFrame['Feature'].tolist()  # Choose the desired number of features\n",
    "selColsMIC"
   ]
  },
  {
   "cell_type": "markdown",
   "metadata": {},
   "source": []
  },
  {
   "cell_type": "code",
   "execution_count": 53,
   "metadata": {},
   "outputs": [
    {
     "data": {
      "text/html": [
       "<div>\n",
       "<style scoped>\n",
       "    .dataframe tbody tr th:only-of-type {\n",
       "        vertical-align: middle;\n",
       "    }\n",
       "\n",
       "    .dataframe tbody tr th {\n",
       "        vertical-align: top;\n",
       "    }\n",
       "\n",
       "    .dataframe thead th {\n",
       "        text-align: right;\n",
       "    }\n",
       "</style>\n",
       "<table border=\"1\" class=\"dataframe\">\n",
       "  <thead>\n",
       "    <tr style=\"text-align: right;\">\n",
       "      <th></th>\n",
       "      <th>Material_Quality</th>\n",
       "      <th>Additive_catalyst</th>\n",
       "      <th>Ash_Component</th>\n",
       "      <th>Water_Mix</th>\n",
       "      <th>Plasticizer</th>\n",
       "      <th>Moderate_Aggregator</th>\n",
       "      <th>Refined_Aggregator</th>\n",
       "      <th>Formulation_Duration</th>\n",
       "    </tr>\n",
       "  </thead>\n",
       "  <tbody>\n",
       "    <tr>\n",
       "      <th>0</th>\n",
       "      <td>0.691433</td>\n",
       "      <td>-0.121849</td>\n",
       "      <td>-1.231379</td>\n",
       "      <td>-0.549816</td>\n",
       "      <td>-0.133050</td>\n",
       "      <td>1.574556</td>\n",
       "      <td>-0.924276</td>\n",
       "      <td>1.526178</td>\n",
       "    </tr>\n",
       "    <tr>\n",
       "      <th>1</th>\n",
       "      <td>-1.684034</td>\n",
       "      <td>0.480137</td>\n",
       "      <td>1.002321</td>\n",
       "      <td>-1.173300</td>\n",
       "      <td>-0.982587</td>\n",
       "      <td>0.948866</td>\n",
       "      <td>1.774783</td>\n",
       "      <td>-1.306499</td>\n",
       "    </tr>\n",
       "    <tr>\n",
       "      <th>2</th>\n",
       "      <td>1.186238</td>\n",
       "      <td>-1.467198</td>\n",
       "      <td>-0.001308</td>\n",
       "      <td>1.722853</td>\n",
       "      <td>-0.492204</td>\n",
       "      <td>0.271139</td>\n",
       "      <td>-0.010218</td>\n",
       "      <td>0.567949</td>\n",
       "    </tr>\n",
       "    <tr>\n",
       "      <th>3</th>\n",
       "      <td>0.052391</td>\n",
       "      <td>1.168175</td>\n",
       "      <td>-0.482055</td>\n",
       "      <td>1.817821</td>\n",
       "      <td>0.116459</td>\n",
       "      <td>1.406363</td>\n",
       "      <td>0.621723</td>\n",
       "      <td>0.308801</td>\n",
       "    </tr>\n",
       "    <tr>\n",
       "      <th>4</th>\n",
       "      <td>0.074928</td>\n",
       "      <td>1.179982</td>\n",
       "      <td>1.121251</td>\n",
       "      <td>0.273076</td>\n",
       "      <td>-0.054485</td>\n",
       "      <td>1.028058</td>\n",
       "      <td>-0.275697</td>\n",
       "      <td>0.829700</td>\n",
       "    </tr>\n",
       "    <tr>\n",
       "      <th>...</th>\n",
       "      <td>...</td>\n",
       "      <td>...</td>\n",
       "      <td>...</td>\n",
       "      <td>...</td>\n",
       "      <td>...</td>\n",
       "      <td>...</td>\n",
       "      <td>...</td>\n",
       "      <td>...</td>\n",
       "    </tr>\n",
       "    <tr>\n",
       "      <th>6134</th>\n",
       "      <td>-1.310929</td>\n",
       "      <td>-0.260350</td>\n",
       "      <td>0.418547</td>\n",
       "      <td>-1.472777</td>\n",
       "      <td>-0.144273</td>\n",
       "      <td>0.053180</td>\n",
       "      <td>1.705193</td>\n",
       "      <td>1.647179</td>\n",
       "    </tr>\n",
       "    <tr>\n",
       "      <th>6135</th>\n",
       "      <td>-0.227202</td>\n",
       "      <td>0.717102</td>\n",
       "      <td>-0.462619</td>\n",
       "      <td>-0.875281</td>\n",
       "      <td>0.705264</td>\n",
       "      <td>-0.759597</td>\n",
       "      <td>1.730596</td>\n",
       "      <td>-0.630218</td>\n",
       "    </tr>\n",
       "    <tr>\n",
       "      <th>6136</th>\n",
       "      <td>-0.170557</td>\n",
       "      <td>-1.316891</td>\n",
       "      <td>-1.275825</td>\n",
       "      <td>-0.381740</td>\n",
       "      <td>1.490050</td>\n",
       "      <td>0.850780</td>\n",
       "      <td>-0.173459</td>\n",
       "      <td>1.152132</td>\n",
       "    </tr>\n",
       "    <tr>\n",
       "      <th>6137</th>\n",
       "      <td>0.414464</td>\n",
       "      <td>0.597068</td>\n",
       "      <td>0.910711</td>\n",
       "      <td>-0.790029</td>\n",
       "      <td>0.036167</td>\n",
       "      <td>-1.378575</td>\n",
       "      <td>0.190232</td>\n",
       "      <td>1.797264</td>\n",
       "    </tr>\n",
       "    <tr>\n",
       "      <th>6138</th>\n",
       "      <td>1.187987</td>\n",
       "      <td>0.528726</td>\n",
       "      <td>0.751414</td>\n",
       "      <td>-1.185445</td>\n",
       "      <td>-0.606166</td>\n",
       "      <td>1.726332</td>\n",
       "      <td>0.739704</td>\n",
       "      <td>1.674557</td>\n",
       "    </tr>\n",
       "  </tbody>\n",
       "</table>\n",
       "<p>6139 rows × 8 columns</p>\n",
       "</div>"
      ],
      "text/plain": [
       "      Material_Quality  Additive_catalyst  Ash_Component  Water_Mix  \\\n",
       "0             0.691433          -0.121849      -1.231379  -0.549816   \n",
       "1            -1.684034           0.480137       1.002321  -1.173300   \n",
       "2             1.186238          -1.467198      -0.001308   1.722853   \n",
       "3             0.052391           1.168175      -0.482055   1.817821   \n",
       "4             0.074928           1.179982       1.121251   0.273076   \n",
       "...                ...                ...            ...        ...   \n",
       "6134         -1.310929          -0.260350       0.418547  -1.472777   \n",
       "6135         -0.227202           0.717102      -0.462619  -0.875281   \n",
       "6136         -0.170557          -1.316891      -1.275825  -0.381740   \n",
       "6137          0.414464           0.597068       0.910711  -0.790029   \n",
       "6138          1.187987           0.528726       0.751414  -1.185445   \n",
       "\n",
       "      Plasticizer  Moderate_Aggregator  Refined_Aggregator  \\\n",
       "0       -0.133050             1.574556           -0.924276   \n",
       "1       -0.982587             0.948866            1.774783   \n",
       "2       -0.492204             0.271139           -0.010218   \n",
       "3        0.116459             1.406363            0.621723   \n",
       "4       -0.054485             1.028058           -0.275697   \n",
       "...           ...                  ...                 ...   \n",
       "6134    -0.144273             0.053180            1.705193   \n",
       "6135     0.705264            -0.759597            1.730596   \n",
       "6136     1.490050             0.850780           -0.173459   \n",
       "6137     0.036167            -1.378575            0.190232   \n",
       "6138    -0.606166             1.726332            0.739704   \n",
       "\n",
       "      Formulation_Duration  \n",
       "0                 1.526178  \n",
       "1                -1.306499  \n",
       "2                 0.567949  \n",
       "3                 0.308801  \n",
       "4                 0.829700  \n",
       "...                    ...  \n",
       "6134              1.647179  \n",
       "6135             -0.630218  \n",
       "6136              1.152132  \n",
       "6137              1.797264  \n",
       "6138              1.674557  \n",
       "\n",
       "[6139 rows x 8 columns]"
      ]
     },
     "execution_count": 53,
     "metadata": {},
     "output_type": "execute_result"
    }
   ],
   "source": [
    "dfSelColsMIC= MCSEDataFrame[MICDataFrame[\"Feature\"].tolist()]\n",
    "dfSelColsMIC "
   ]
  },
  {
   "cell_type": "markdown",
   "metadata": {},
   "source": [
    "### Phase5 : Feature Engineering &Predictive Modelling"
   ]
  },
  {
   "cell_type": "code",
   "execution_count": 54,
   "metadata": {},
   "outputs": [],
   "source": [
    "def createTrainTestSplit(x,y): # split dataframe into train and test dataset\n",
    "    return train_test_split(x,y,test_size= 0.2,random_state=42)"
   ]
  },
  {
   "cell_type": "code",
   "execution_count": 55,
   "metadata": {},
   "outputs": [],
   "source": [
    "def createModel(modelName,estimator,x,y): # Train the model provided in the argument\n",
    "    x_train,x_test,y_train,y_test = createTrainTestSplit(x,y) \n",
    "    estimator.fit(x_train,y_train)\n",
    "    y_pred = estimator.predict(x_test) \n",
    "    \n",
    "        \n",
    "    r2ScoreVal = r2_score(y_test,y_pred)\n",
    "    MSEVal = np.sqrt(mean_squared_error(y_test,y_pred))\n",
    "    returnList = [modelName,r2ScoreVal,MSEVal] \n",
    "    \n",
    "    \n",
    "    return returnList "
   ]
  },
  {
   "cell_type": "markdown",
   "metadata": {},
   "source": [
    "### Train Regression models with Features selected with MIC"
   ]
  },
  {
   "cell_type": "code",
   "execution_count": 56,
   "metadata": {},
   "outputs": [
    {
     "data": {
      "text/plain": [
       "Index(['Material_Quality', 'Additive_catalyst', 'Ash_Component', 'Water_Mix',\n",
       "       'Plasticizer', 'Moderate_Aggregator', 'Refined_Aggregator',\n",
       "       'Formulation_Duration'],\n",
       "      dtype='object')"
      ]
     },
     "execution_count": 56,
     "metadata": {},
     "output_type": "execute_result"
    }
   ],
   "source": [
    "dfSelColsMIC.columns"
   ]
  },
  {
   "cell_type": "code",
   "execution_count": 57,
   "metadata": {},
   "outputs": [],
   "source": [
    "# Separate features and target variable\n",
    "XMIC = dfSelColsMIC[['Material_Quality', 'Additive_catalyst', 'Ash_Component', 'Water_Mix',\n",
    "       'Plasticizer', 'Moderate_Aggregator', 'Refined_Aggregator',\n",
    "       'Formulation_Duration']]\n",
    "YMIC = MCSEDataFrame['Compression_Strength']"
   ]
  },
  {
   "cell_type": "code",
   "execution_count": 66,
   "metadata": {},
   "outputs": [
    {
     "name": "stdout",
     "output_type": "stream",
     "text": [
      "R2 Score (Model): 0.4457\n",
      "Mean Squared Error (Model): 140.5870\n"
     ]
    }
   ],
   "source": [
    "X_train, X_test, y_train, y_test =  createTrainTestSplit(XMIC,YMIC) \n",
    "\n",
    "# Define hyperparameter values\n",
    "hyperparameters = {\n",
    "    'max_depth': 10,\n",
    "    'n_estimators': 200\n",
    "}\n",
    "\n",
    "\n",
    "rf_model = RandomForestRegressor(**hyperparameters)\n",
    "\n",
    "rf_model.fit(X_train, y_train)\n",
    "\n",
    "y_pred = rf_model.predict(X_test)\n",
    "\n",
    "r2_model = r2_score(y_test, y_pred)\n",
    "mse_model = mean_squared_error(y_test, y_pred)\n",
    "\n",
    "print(f'R2 Score (Model): {r2_model:.4f}')\n",
    "print(f'Mean Squared Error (Model): {mse_model:.4f}')"
   ]
  },
  {
   "cell_type": "code",
   "execution_count": 59,
   "metadata": {},
   "outputs": [
    {
     "data": {
      "text/plain": [
       "Index(['Material_Quality', 'Additive_catalyst', 'Ash_Component', 'Water_Mix',\n",
       "       'Plasticizer', 'Moderate_Aggregator', 'Refined_Aggregator',\n",
       "       'Formulation_Duration'],\n",
       "      dtype='object')"
      ]
     },
     "execution_count": 59,
     "metadata": {},
     "output_type": "execute_result"
    }
   ],
   "source": [
    "X_test.columns"
   ]
  },
  {
   "cell_type": "code",
   "execution_count": 60,
   "metadata": {},
   "outputs": [
    {
     "name": "stderr",
     "output_type": "stream",
     "text": [
      "/Users/jaspreetkaur/anaconda3/lib/python3.11/site-packages/sklearn/base.py:464: UserWarning: X does not have valid feature names, but RandomForestRegressor was fitted with feature names\n",
      "  warnings.warn(\n"
     ]
    }
   ],
   "source": [
    "# Assuming rf_model is your RandomForestRegressor model\n",
    "input_features = [0.691433, -0.121849, -1.231379, -0.549816, -0.133050, 1.574556, -0.924276, 1.526178]\n",
    "prediction = rf_model.predict([input_features])"
   ]
  },
  {
   "cell_type": "code",
   "execution_count": 61,
   "metadata": {},
   "outputs": [
    {
     "data": {
      "text/plain": [
       "array([61.18015607])"
      ]
     },
     "execution_count": 61,
     "metadata": {},
     "output_type": "execute_result"
    }
   ],
   "source": [
    "prediction"
   ]
  },
  {
   "cell_type": "code",
   "execution_count": 62,
   "metadata": {},
   "outputs": [],
   "source": [
    "def scaledUserInputData(input_data):\n",
    "    # input_data is a list or array-like containing your feature values\n",
    "    scaled_data = StdObject.transform([input_data])\n",
    "    return scaled_data"
   ]
  },
  {
   "cell_type": "code",
   "execution_count": 63,
   "metadata": {},
   "outputs": [],
   "source": [
    "with open('model.pkl','wb') as files:\n",
    "    pickle.dump(rf_model,files)\n",
    "    "
   ]
  },
  {
   "cell_type": "code",
   "execution_count": 64,
   "metadata": {},
   "outputs": [],
   "source": [
    "# Save the scaler\n",
    "with open('scaler.pkl','wb') as files:\n",
    "    pickle.dump(StdObject,files)"
   ]
  }
 ],
 "metadata": {
  "kernelspec": {
   "display_name": "Python 3",
   "language": "python",
   "name": "python3"
  },
  "language_info": {
   "codemirror_mode": {
    "name": "ipython",
    "version": 3
   },
   "file_extension": ".py",
   "mimetype": "text/x-python",
   "name": "python",
   "nbconvert_exporter": "python",
   "pygments_lexer": "ipython3",
   "version": "3.11.4"
  }
 },
 "nbformat": 4,
 "nbformat_minor": 2
}
